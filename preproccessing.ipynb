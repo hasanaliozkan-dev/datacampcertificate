{
 "cells": [
  {
   "cell_type": "code",
   "execution_count": 160,
   "id": "718b7f2f-14de-4571-99e3-b77f54f41255",
   "metadata": {},
   "outputs": [],
   "source": [
    "import pandas as pd\n",
    "import numpy as np\n",
    "import seaborn as sns\n",
    "import matplotlib.pyplot as plt\n",
    "from sklearn.neighbors import KNeighborsClassifier"
   ]
  },
  {
   "cell_type": "code",
   "execution_count": 161,
   "id": "c7e596e7-f682-41e3-bc55-5ed0c8d062f3",
   "metadata": {},
   "outputs": [],
   "source": [
    "data = pd.read_csv('./boat_data.csv')"
   ]
  },
  {
   "cell_type": "code",
   "execution_count": 162,
   "id": "b9fb9b68-3483-4bad-8c13-b80a911ecbec",
   "metadata": {},
   "outputs": [
    {
     "data": {
      "text/plain": [
       "array([2017, 2020,    0, 2019, 1999, 2018, 1987, 2004, 1997, 1985, 1981,\n",
       "       2011, 1979, 1998, 1994, 1996, 1972, 1980, 1974, 1983, 1991, 1992,\n",
       "       1961, 2015, 2000, 1993, 1968, 2007, 1990, 2010, 1975, 1986, 1941,\n",
       "       1971, 2005, 1995, 1976, 2001, 2006, 2016, 1984, 1964, 1978, 1940,\n",
       "       1988, 2003, 1977, 1973, 1970, 1913, 1965, 1950, 2014, 2002, 1963,\n",
       "       2008, 1948, 1960, 1930, 2009, 1989, 1969, 1982, 1937, 2013, 2012,\n",
       "       1954, 1959, 1909, 1926, 1910, 1962, 1938, 1936, 1967, 1903, 1933,\n",
       "       1906, 1908, 2021, 1927, 1929, 1956, 1958, 1922, 1952, 1957, 1928,\n",
       "       1905, 1951, 1911, 1966, 1915, 1934, 1939, 1953, 1924, 1931, 1920,\n",
       "       1898, 1955, 1907, 1885, 1895, 1914, 1901, 1942, 1919, 1925, 1889,\n",
       "       1946, 1904, 1923, 1917, 1935, 1949, 1947, 1912, 1945, 1897, 1902,\n",
       "       1900])"
      ]
     },
     "execution_count": 162,
     "metadata": {},
     "output_type": "execute_result"
    }
   ],
   "source": [
    "data['Year Built'].unique()"
   ]
  },
  {
   "cell_type": "code",
   "execution_count": 163,
   "id": "ab947235-2db6-4724-a093-ac957fa55aa4",
   "metadata": {},
   "outputs": [
    {
     "data": {
      "text/plain": [
       "2004"
      ]
     },
     "execution_count": 163,
     "metadata": {},
     "output_type": "execute_result"
    }
   ],
   "source": [
    "int(data[data['Year Built'] != data['Year Built'].min()]['Year Built'].mean())"
   ]
  },
  {
   "cell_type": "code",
   "execution_count": 164,
   "id": "1cf6da2c",
   "metadata": {},
   "outputs": [],
   "source": [
    "data_to_fixed_years=data[data['Year Built'] == 0]"
   ]
  },
  {
   "cell_type": "code",
   "execution_count": 165,
   "id": "339d8f3b",
   "metadata": {},
   "outputs": [
    {
     "name": "stderr",
     "output_type": "stream",
     "text": [
      "/var/folders/j3/p5fccy8920s46lf3_h_xgx800000gn/T/ipykernel_50391/2053897922.py:1: SettingWithCopyWarning: \n",
      "A value is trying to be set on a copy of a slice from a DataFrame.\n",
      "Try using .loc[row_indexer,col_indexer] = value instead\n",
      "\n",
      "See the caveats in the documentation: https://pandas.pydata.org/pandas-docs/stable/user_guide/indexing.html#returning-a-view-versus-a-copy\n",
      "  data_to_fixed_years.iloc[:,4:5] = int(data[data['Year Built'] != data['Year Built'].min()]['Year Built'].mean())\n"
     ]
    }
   ],
   "source": [
    "data_to_fixed_years.iloc[:,4:5] = int(data[data['Year Built'] != data['Year Built'].min()]['Year Built'].mean())"
   ]
  },
  {
   "cell_type": "code",
   "execution_count": 172,
   "id": "93d99d5d",
   "metadata": {},
   "outputs": [],
   "source": [
    "data = pd.concat([data,data_to_fixed_years],axis=0)"
   ]
  },
  {
   "cell_type": "code",
   "execution_count": 173,
   "id": "50d5e489",
   "metadata": {},
   "outputs": [
    {
     "data": {
      "text/html": [
       "<div>\n",
       "<style scoped>\n",
       "    .dataframe tbody tr th:only-of-type {\n",
       "        vertical-align: middle;\n",
       "    }\n",
       "\n",
       "    .dataframe tbody tr th {\n",
       "        vertical-align: top;\n",
       "    }\n",
       "\n",
       "    .dataframe thead th {\n",
       "        text-align: right;\n",
       "    }\n",
       "</style>\n",
       "<table border=\"1\" class=\"dataframe\">\n",
       "  <thead>\n",
       "    <tr style=\"text-align: right;\">\n",
       "      <th></th>\n",
       "      <th>Year Built</th>\n",
       "      <th>Length</th>\n",
       "      <th>Width</th>\n",
       "      <th>Number of views last 7 days</th>\n",
       "    </tr>\n",
       "  </thead>\n",
       "  <tbody>\n",
       "    <tr>\n",
       "      <th>count</th>\n",
       "      <td>9888.000000</td>\n",
       "      <td>9879.000000</td>\n",
       "      <td>9832.000000</td>\n",
       "      <td>9888.000000</td>\n",
       "    </tr>\n",
       "    <tr>\n",
       "      <th>mean</th>\n",
       "      <td>2004.863977</td>\n",
       "      <td>11.570017</td>\n",
       "      <td>3.520124</td>\n",
       "      <td>149.160801</td>\n",
       "    </tr>\n",
       "    <tr>\n",
       "      <th>std</th>\n",
       "      <td>15.895329</td>\n",
       "      <td>6.002820</td>\n",
       "      <td>1.220534</td>\n",
       "      <td>151.819752</td>\n",
       "    </tr>\n",
       "    <tr>\n",
       "      <th>min</th>\n",
       "      <td>1885.000000</td>\n",
       "      <td>1.040000</td>\n",
       "      <td>0.010000</td>\n",
       "      <td>13.000000</td>\n",
       "    </tr>\n",
       "    <tr>\n",
       "      <th>25%</th>\n",
       "      <td>2000.000000</td>\n",
       "      <td>7.470000</td>\n",
       "      <td>2.540000</td>\n",
       "      <td>70.000000</td>\n",
       "    </tr>\n",
       "    <tr>\n",
       "      <th>50%</th>\n",
       "      <td>2007.000000</td>\n",
       "      <td>10.280000</td>\n",
       "      <td>3.330000</td>\n",
       "      <td>108.000000</td>\n",
       "    </tr>\n",
       "    <tr>\n",
       "      <th>75%</th>\n",
       "      <td>2017.000000</td>\n",
       "      <td>13.930000</td>\n",
       "      <td>4.250000</td>\n",
       "      <td>172.000000</td>\n",
       "    </tr>\n",
       "    <tr>\n",
       "      <th>max</th>\n",
       "      <td>2021.000000</td>\n",
       "      <td>100.000000</td>\n",
       "      <td>25.160000</td>\n",
       "      <td>3263.000000</td>\n",
       "    </tr>\n",
       "  </tbody>\n",
       "</table>\n",
       "</div>"
      ],
      "text/plain": [
       "        Year Built       Length        Width  Number of views last 7 days\n",
       "count  9888.000000  9879.000000  9832.000000                  9888.000000\n",
       "mean   2004.863977    11.570017     3.520124                   149.160801\n",
       "std      15.895329     6.002820     1.220534                   151.819752\n",
       "min    1885.000000     1.040000     0.010000                    13.000000\n",
       "25%    2000.000000     7.470000     2.540000                    70.000000\n",
       "50%    2007.000000    10.280000     3.330000                   108.000000\n",
       "75%    2017.000000    13.930000     4.250000                   172.000000\n",
       "max    2021.000000   100.000000    25.160000                  3263.000000"
      ]
     },
     "execution_count": 173,
     "metadata": {},
     "output_type": "execute_result"
    }
   ],
   "source": [
    "data.describe()"
   ]
  },
  {
   "cell_type": "code",
   "execution_count": 174,
   "id": "3af987c3-3d10-4e99-821d-f0af7fd55fcc",
   "metadata": {},
   "outputs": [
    {
     "data": {
      "text/plain": [
       "Price                             0\n",
       "Boat Type                         0\n",
       "Manufacturer                   1338\n",
       "Type                              6\n",
       "Year Built                        0\n",
       "Length                            9\n",
       "Width                            56\n",
       "Material                       1749\n",
       "Location                         36\n",
       "Number of views last 7 days       0\n",
       "dtype: int64"
      ]
     },
     "execution_count": 174,
     "metadata": {},
     "output_type": "execute_result"
    }
   ],
   "source": [
    "data.isna().sum()"
   ]
  },
  {
   "cell_type": "code",
   "execution_count": 175,
   "id": "ae6e7c08-aa0f-4dc8-afe6-b6ad01cf7927",
   "metadata": {},
   "outputs": [
    {
     "data": {
      "text/plain": [
       "3194"
      ]
     },
     "execution_count": 175,
     "metadata": {},
     "output_type": "execute_result"
    }
   ],
   "source": [
    "data.isna().sum().sum()"
   ]
  },
  {
   "cell_type": "code",
   "execution_count": 176,
   "id": "94c73cf1-edce-4533-8188-64a8888b95aa",
   "metadata": {},
   "outputs": [
    {
     "data": {
      "text/html": [
       "<div>\n",
       "<style scoped>\n",
       "    .dataframe tbody tr th:only-of-type {\n",
       "        vertical-align: middle;\n",
       "    }\n",
       "\n",
       "    .dataframe tbody tr th {\n",
       "        vertical-align: top;\n",
       "    }\n",
       "\n",
       "    .dataframe thead th {\n",
       "        text-align: right;\n",
       "    }\n",
       "</style>\n",
       "<table border=\"1\" class=\"dataframe\">\n",
       "  <thead>\n",
       "    <tr style=\"text-align: right;\">\n",
       "      <th></th>\n",
       "      <th>Price</th>\n",
       "      <th>Boat Type</th>\n",
       "      <th>Manufacturer</th>\n",
       "      <th>Type</th>\n",
       "      <th>Year Built</th>\n",
       "      <th>Length</th>\n",
       "      <th>Width</th>\n",
       "      <th>Material</th>\n",
       "      <th>Location</th>\n",
       "      <th>Number of views last 7 days</th>\n",
       "    </tr>\n",
       "  </thead>\n",
       "  <tbody>\n",
       "    <tr>\n",
       "      <th>6</th>\n",
       "      <td>CHF 3600</td>\n",
       "      <td>Catamaran</td>\n",
       "      <td>NaN</td>\n",
       "      <td>Used boat,Unleaded</td>\n",
       "      <td>1999</td>\n",
       "      <td>6.20</td>\n",
       "      <td>2.38</td>\n",
       "      <td>Aluminium</td>\n",
       "      <td>Switzerland</td>\n",
       "      <td>474</td>\n",
       "    </tr>\n",
       "    <tr>\n",
       "      <th>17</th>\n",
       "      <td>DKK 30000</td>\n",
       "      <td>Sport Boat</td>\n",
       "      <td>NaN</td>\n",
       "      <td>Used boat</td>\n",
       "      <td>1985</td>\n",
       "      <td>4.00</td>\n",
       "      <td>1.00</td>\n",
       "      <td>NaN</td>\n",
       "      <td>Denmark</td>\n",
       "      <td>124</td>\n",
       "    </tr>\n",
       "    <tr>\n",
       "      <th>19</th>\n",
       "      <td>EUR 4000</td>\n",
       "      <td>Cabin Boat</td>\n",
       "      <td>NaN</td>\n",
       "      <td>Used boat,Unleaded</td>\n",
       "      <td>2011</td>\n",
       "      <td>6.37</td>\n",
       "      <td>2.31</td>\n",
       "      <td>GRP</td>\n",
       "      <td>Germany</td>\n",
       "      <td>330</td>\n",
       "    </tr>\n",
       "    <tr>\n",
       "      <th>24</th>\n",
       "      <td>EUR 3900</td>\n",
       "      <td>Cabin Boat</td>\n",
       "      <td>NaN</td>\n",
       "      <td>Used boat</td>\n",
       "      <td>1985</td>\n",
       "      <td>6.53</td>\n",
       "      <td>2.47</td>\n",
       "      <td>NaN</td>\n",
       "      <td>France</td>\n",
       "      <td>383</td>\n",
       "    </tr>\n",
       "    <tr>\n",
       "      <th>28</th>\n",
       "      <td>CHF 4000</td>\n",
       "      <td>Fishing Boat</td>\n",
       "      <td>NaN</td>\n",
       "      <td>Used boat,Unleaded</td>\n",
       "      <td>1994</td>\n",
       "      <td>5.60</td>\n",
       "      <td>1.58</td>\n",
       "      <td>GRP</td>\n",
       "      <td>Switzerland</td>\n",
       "      <td>641</td>\n",
       "    </tr>\n",
       "    <tr>\n",
       "      <th>...</th>\n",
       "      <td>...</td>\n",
       "      <td>...</td>\n",
       "      <td>...</td>\n",
       "      <td>...</td>\n",
       "      <td>...</td>\n",
       "      <td>...</td>\n",
       "      <td>...</td>\n",
       "      <td>...</td>\n",
       "      <td>...</td>\n",
       "      <td>...</td>\n",
       "    </tr>\n",
       "    <tr>\n",
       "      <th>9830</th>\n",
       "      <td>EUR 6900</td>\n",
       "      <td>Sport Boat</td>\n",
       "      <td>NaN</td>\n",
       "      <td>Used boat,Unleaded</td>\n",
       "      <td>2004</td>\n",
       "      <td>6.00</td>\n",
       "      <td>1.95</td>\n",
       "      <td>GRP</td>\n",
       "      <td>Barssel</td>\n",
       "      <td>531</td>\n",
       "    </tr>\n",
       "    <tr>\n",
       "      <th>9848</th>\n",
       "      <td>EUR 5995</td>\n",
       "      <td>Trawler</td>\n",
       "      <td>NaN</td>\n",
       "      <td>Used boat</td>\n",
       "      <td>2004</td>\n",
       "      <td>6.50</td>\n",
       "      <td>3.00</td>\n",
       "      <td>Steel</td>\n",
       "      <td>Netherlands</td>\n",
       "      <td>204</td>\n",
       "    </tr>\n",
       "    <tr>\n",
       "      <th>9853</th>\n",
       "      <td>EUR 5950</td>\n",
       "      <td>Cabin Boat</td>\n",
       "      <td>NaN</td>\n",
       "      <td>Used boat,Unleaded</td>\n",
       "      <td>2004</td>\n",
       "      <td>4.85</td>\n",
       "      <td>1.80</td>\n",
       "      <td>GRP</td>\n",
       "      <td>Germany</td>\n",
       "      <td>303</td>\n",
       "    </tr>\n",
       "    <tr>\n",
       "      <th>9864</th>\n",
       "      <td>EUR 4990</td>\n",
       "      <td>Sport Boat</td>\n",
       "      <td>NaN</td>\n",
       "      <td>Used boat,Unleaded</td>\n",
       "      <td>2004</td>\n",
       "      <td>4.60</td>\n",
       "      <td>1.80</td>\n",
       "      <td>GRP</td>\n",
       "      <td>Germany</td>\n",
       "      <td>185</td>\n",
       "    </tr>\n",
       "    <tr>\n",
       "      <th>9884</th>\n",
       "      <td>EUR 4516</td>\n",
       "      <td>Sport Boat</td>\n",
       "      <td>NaN</td>\n",
       "      <td>new boat from stock</td>\n",
       "      <td>2004</td>\n",
       "      <td>4.17</td>\n",
       "      <td>1.68</td>\n",
       "      <td>GRP</td>\n",
       "      <td>Germany</td>\n",
       "      <td>94</td>\n",
       "    </tr>\n",
       "  </tbody>\n",
       "</table>\n",
       "<p>1338 rows × 10 columns</p>\n",
       "</div>"
      ],
      "text/plain": [
       "          Price     Boat Type Manufacturer                 Type  Year Built  \\\n",
       "6      CHF 3600     Catamaran          NaN   Used boat,Unleaded        1999   \n",
       "17    DKK 30000    Sport Boat          NaN            Used boat        1985   \n",
       "19     EUR 4000    Cabin Boat          NaN   Used boat,Unleaded        2011   \n",
       "24     EUR 3900    Cabin Boat          NaN            Used boat        1985   \n",
       "28     CHF 4000  Fishing Boat          NaN   Used boat,Unleaded        1994   \n",
       "...         ...           ...          ...                  ...         ...   \n",
       "9830   EUR 6900    Sport Boat          NaN   Used boat,Unleaded        2004   \n",
       "9848   EUR 5995       Trawler          NaN            Used boat        2004   \n",
       "9853   EUR 5950    Cabin Boat          NaN   Used boat,Unleaded        2004   \n",
       "9864   EUR 4990    Sport Boat          NaN   Used boat,Unleaded        2004   \n",
       "9884   EUR 4516    Sport Boat          NaN  new boat from stock        2004   \n",
       "\n",
       "      Length  Width   Material     Location  Number of views last 7 days  \n",
       "6       6.20   2.38  Aluminium  Switzerland                          474  \n",
       "17      4.00   1.00        NaN      Denmark                          124  \n",
       "19      6.37   2.31        GRP      Germany                          330  \n",
       "24      6.53   2.47        NaN       France                          383  \n",
       "28      5.60   1.58        GRP  Switzerland                          641  \n",
       "...      ...    ...        ...          ...                          ...  \n",
       "9830    6.00   1.95        GRP      Barssel                          531  \n",
       "9848    6.50   3.00      Steel  Netherlands                          204  \n",
       "9853    4.85   1.80        GRP      Germany                          303  \n",
       "9864    4.60   1.80        GRP      Germany                          185  \n",
       "9884    4.17   1.68        GRP      Germany                           94  \n",
       "\n",
       "[1338 rows x 10 columns]"
      ]
     },
     "execution_count": 176,
     "metadata": {},
     "output_type": "execute_result"
    }
   ],
   "source": [
    "data[data['Manufacturer'].isna()]"
   ]
  },
  {
   "cell_type": "code",
   "execution_count": 177,
   "id": "978712a1-41a5-4b0e-bba8-1db49b660575",
   "metadata": {},
   "outputs": [
    {
     "data": {
      "image/png": "[encoded data removed]",
      "text/plain": [
       "<Figure size 2000x800 with 3 Axes>"
      ]
     },
     "metadata": {},
     "output_type": "display_data"
    }
   ],
   "source": [
    "fig, (ax1, ax2) = plt.subplots(1,2, figsize=(20,8))\n",
    "\n",
    "sns.histplot(\n",
    "    data=data.isna().melt(value_name=\"missing\"),\n",
    "    y=\"variable\",\n",
    "    hue=\"missing\",\n",
    "    multiple=\"fill\",\n",
    "    ax = ax1\n",
    ")\n",
    "sns.heatmap(data.isna().transpose(),\n",
    "            cmap=\"YlGnBu\",\n",
    "            cbar_kws={'label': 'Missing Data'},\n",
    "            ax=ax2\n",
    "           )\n",
    "plt.show();"
   ]
  },
  {
   "cell_type": "code",
   "execution_count": 178,
   "id": "92c3b5ed-56e0-4a84-b7c1-631652405604",
   "metadata": {},
   "outputs": [
    {
     "data": {
      "text/plain": [
       "0    BÃ©nÃ©teau power boats\n",
       "Name: Manufacturer, dtype: object"
      ]
     },
     "execution_count": 178,
     "metadata": {},
     "output_type": "execute_result"
    }
   ],
   "source": [
    "data['Manufacturer'].mode()"
   ]
  },
  {
   "cell_type": "code",
   "execution_count": 179,
   "id": "2fa34c23-c016-4d2b-b2ad-687cd5df99b7",
   "metadata": {},
   "outputs": [
    {
     "data": {
      "text/html": [
       "<div>\n",
       "<style scoped>\n",
       "    .dataframe tbody tr th:only-of-type {\n",
       "        vertical-align: middle;\n",
       "    }\n",
       "\n",
       "    .dataframe tbody tr th {\n",
       "        vertical-align: top;\n",
       "    }\n",
       "\n",
       "    .dataframe thead th {\n",
       "        text-align: right;\n",
       "    }\n",
       "</style>\n",
       "<table border=\"1\" class=\"dataframe\">\n",
       "  <thead>\n",
       "    <tr style=\"text-align: right;\">\n",
       "      <th></th>\n",
       "      <th>Price</th>\n",
       "      <th>Boat Type</th>\n",
       "      <th>Manufacturer</th>\n",
       "      <th>Type</th>\n",
       "      <th>Year Built</th>\n",
       "      <th>Length</th>\n",
       "      <th>Width</th>\n",
       "      <th>Material</th>\n",
       "      <th>Location</th>\n",
       "      <th>Number of views last 7 days</th>\n",
       "    </tr>\n",
       "  </thead>\n",
       "  <tbody>\n",
       "    <tr>\n",
       "      <th>18</th>\n",
       "      <td>EUR 4000</td>\n",
       "      <td>Pilothouse</td>\n",
       "      <td>BÃ©nÃ©teau power boats</td>\n",
       "      <td>Used boat,Diesel</td>\n",
       "      <td>1981</td>\n",
       "      <td>8.00</td>\n",
       "      <td>2.84</td>\n",
       "      <td>PVC</td>\n",
       "      <td>France</td>\n",
       "      <td>265</td>\n",
       "    </tr>\n",
       "    <tr>\n",
       "      <th>148</th>\n",
       "      <td>EUR 12000</td>\n",
       "      <td>Sport Boat</td>\n",
       "      <td>BÃ©nÃ©teau power boats</td>\n",
       "      <td>Used boat,Unleaded</td>\n",
       "      <td>1993</td>\n",
       "      <td>7.75</td>\n",
       "      <td>2.75</td>\n",
       "      <td>PVC</td>\n",
       "      <td>France</td>\n",
       "      <td>141</td>\n",
       "    </tr>\n",
       "    <tr>\n",
       "      <th>191</th>\n",
       "      <td>EUR 13500</td>\n",
       "      <td>Sport Boat</td>\n",
       "      <td>BÃ©nÃ©teau power boats</td>\n",
       "      <td>Used boat,Diesel</td>\n",
       "      <td>2006</td>\n",
       "      <td>6.50</td>\n",
       "      <td>2.44</td>\n",
       "      <td>Steel</td>\n",
       "      <td>France</td>\n",
       "      <td>262</td>\n",
       "    </tr>\n",
       "    <tr>\n",
       "      <th>258</th>\n",
       "      <td>EUR 16900</td>\n",
       "      <td>Sport Boat</td>\n",
       "      <td>BÃ©nÃ©teau power boats</td>\n",
       "      <td>Used boat,Unleaded</td>\n",
       "      <td>2003</td>\n",
       "      <td>5.47</td>\n",
       "      <td>2.34</td>\n",
       "      <td>PVC</td>\n",
       "      <td>Spain</td>\n",
       "      <td>152</td>\n",
       "    </tr>\n",
       "    <tr>\n",
       "      <th>304</th>\n",
       "      <td>EUR 18620</td>\n",
       "      <td>Pilothouse</td>\n",
       "      <td>BÃ©nÃ©teau power boats</td>\n",
       "      <td>new boat from stock</td>\n",
       "      <td>2020</td>\n",
       "      <td>5.52</td>\n",
       "      <td>2.43</td>\n",
       "      <td>NaN</td>\n",
       "      <td>Italy</td>\n",
       "      <td>73</td>\n",
       "    </tr>\n",
       "    <tr>\n",
       "      <th>...</th>\n",
       "      <td>...</td>\n",
       "      <td>...</td>\n",
       "      <td>...</td>\n",
       "      <td>...</td>\n",
       "      <td>...</td>\n",
       "      <td>...</td>\n",
       "      <td>...</td>\n",
       "      <td>...</td>\n",
       "      <td>...</td>\n",
       "      <td>...</td>\n",
       "    </tr>\n",
       "    <tr>\n",
       "      <th>6026</th>\n",
       "      <td>EUR 129000</td>\n",
       "      <td>Motor Yacht</td>\n",
       "      <td>BÃ©nÃ©teau power boats</td>\n",
       "      <td>Used boat,Diesel</td>\n",
       "      <td>2004</td>\n",
       "      <td>10.45</td>\n",
       "      <td>3.72</td>\n",
       "      <td>NaN</td>\n",
       "      <td>Malta</td>\n",
       "      <td>36</td>\n",
       "    </tr>\n",
       "    <tr>\n",
       "      <th>7496</th>\n",
       "      <td>EUR 60475</td>\n",
       "      <td>Motor Yacht</td>\n",
       "      <td>BÃ©nÃ©teau power boats</td>\n",
       "      <td>new boat from stock</td>\n",
       "      <td>2004</td>\n",
       "      <td>8.10</td>\n",
       "      <td>2.50</td>\n",
       "      <td>NaN</td>\n",
       "      <td>Germany</td>\n",
       "      <td>33</td>\n",
       "    </tr>\n",
       "    <tr>\n",
       "      <th>7767</th>\n",
       "      <td>EUR 54700</td>\n",
       "      <td>Center console boat</td>\n",
       "      <td>BÃ©nÃ©teau power boats</td>\n",
       "      <td>new boat from stock,Unleaded</td>\n",
       "      <td>2004</td>\n",
       "      <td>6.41</td>\n",
       "      <td>2.48</td>\n",
       "      <td>PVC</td>\n",
       "      <td>France</td>\n",
       "      <td>119</td>\n",
       "    </tr>\n",
       "    <tr>\n",
       "      <th>7803</th>\n",
       "      <td>EUR 53900</td>\n",
       "      <td>Pilothouse</td>\n",
       "      <td>BÃ©nÃ©teau power boats</td>\n",
       "      <td>new boat from stock</td>\n",
       "      <td>2004</td>\n",
       "      <td>7.48</td>\n",
       "      <td>2.50</td>\n",
       "      <td>GRP</td>\n",
       "      <td>Germany</td>\n",
       "      <td>117</td>\n",
       "    </tr>\n",
       "    <tr>\n",
       "      <th>9269</th>\n",
       "      <td>EUR 20100</td>\n",
       "      <td>Pilothouse</td>\n",
       "      <td>BÃ©nÃ©teau power boats</td>\n",
       "      <td>new boat from stock</td>\n",
       "      <td>2004</td>\n",
       "      <td>5.62</td>\n",
       "      <td>2.43</td>\n",
       "      <td>GRP</td>\n",
       "      <td>Germany</td>\n",
       "      <td>183</td>\n",
       "    </tr>\n",
       "  </tbody>\n",
       "</table>\n",
       "<p>631 rows × 10 columns</p>\n",
       "</div>"
      ],
      "text/plain": [
       "           Price            Boat Type            Manufacturer  \\\n",
       "18      EUR 4000           Pilothouse  BÃ©nÃ©teau power boats   \n",
       "148    EUR 12000           Sport Boat  BÃ©nÃ©teau power boats   \n",
       "191    EUR 13500           Sport Boat  BÃ©nÃ©teau power boats   \n",
       "258    EUR 16900           Sport Boat  BÃ©nÃ©teau power boats   \n",
       "304    EUR 18620           Pilothouse  BÃ©nÃ©teau power boats   \n",
       "...          ...                  ...                     ...   \n",
       "6026  EUR 129000          Motor Yacht  BÃ©nÃ©teau power boats   \n",
       "7496   EUR 60475          Motor Yacht  BÃ©nÃ©teau power boats   \n",
       "7767   EUR 54700  Center console boat  BÃ©nÃ©teau power boats   \n",
       "7803   EUR 53900           Pilothouse  BÃ©nÃ©teau power boats   \n",
       "9269   EUR 20100           Pilothouse  BÃ©nÃ©teau power boats   \n",
       "\n",
       "                              Type  Year Built  Length  Width Material  \\\n",
       "18                Used boat,Diesel        1981    8.00   2.84      PVC   \n",
       "148             Used boat,Unleaded        1993    7.75   2.75      PVC   \n",
       "191               Used boat,Diesel        2006    6.50   2.44    Steel   \n",
       "258             Used boat,Unleaded        2003    5.47   2.34      PVC   \n",
       "304            new boat from stock        2020    5.52   2.43      NaN   \n",
       "...                            ...         ...     ...    ...      ...   \n",
       "6026              Used boat,Diesel        2004   10.45   3.72      NaN   \n",
       "7496           new boat from stock        2004    8.10   2.50      NaN   \n",
       "7767  new boat from stock,Unleaded        2004    6.41   2.48      PVC   \n",
       "7803           new boat from stock        2004    7.48   2.50      GRP   \n",
       "9269           new boat from stock        2004    5.62   2.43      GRP   \n",
       "\n",
       "     Location  Number of views last 7 days  \n",
       "18     France                          265  \n",
       "148    France                          141  \n",
       "191    France                          262  \n",
       "258     Spain                          152  \n",
       "304     Italy                           73  \n",
       "...       ...                          ...  \n",
       "6026    Malta                           36  \n",
       "7496  Germany                           33  \n",
       "7767   France                          119  \n",
       "7803  Germany                          117  \n",
       "9269  Germany                          183  \n",
       "\n",
       "[631 rows x 10 columns]"
      ]
     },
     "execution_count": 179,
     "metadata": {},
     "output_type": "execute_result"
    }
   ],
   "source": [
    "data[data['Manufacturer'] == 'BÃ©nÃ©teau power boats']"
   ]
  },
  {
   "cell_type": "code",
   "execution_count": 180,
   "id": "ad4de7b2-74cf-4d85-bef3-136fa8bdc09f",
   "metadata": {},
   "outputs": [
    {
     "data": {
      "text/plain": [
       "'GRP'"
      ]
     },
     "execution_count": 180,
     "metadata": {},
     "output_type": "execute_result"
    }
   ],
   "source": [
    "data['Material'].mode()[0]"
   ]
  },
  {
   "cell_type": "code",
   "execution_count": 181,
   "id": "cebc40f5-ca9f-4461-a717-bec3c371af71",
   "metadata": {},
   "outputs": [],
   "source": [
    "data['Material'].fillna(data['Material'].mode()[0], inplace=True)"
   ]
  },
  {
   "cell_type": "code",
   "execution_count": 182,
   "id": "617de539-e2fe-4710-a0fb-9f0c00a16e7a",
   "metadata": {},
   "outputs": [
    {
     "data": {
      "text/plain": [
       "Price                             0\n",
       "Boat Type                         0\n",
       "Manufacturer                   1338\n",
       "Type                              6\n",
       "Year Built                        0\n",
       "Length                            9\n",
       "Width                            56\n",
       "Material                          0\n",
       "Location                         36\n",
       "Number of views last 7 days       0\n",
       "dtype: int64"
      ]
     },
     "execution_count": 182,
     "metadata": {},
     "output_type": "execute_result"
    }
   ],
   "source": [
    "data.isna().sum()"
   ]
  },
  {
   "cell_type": "code",
   "execution_count": 183,
   "id": "bc776c5f-5422-4b70-9120-d5a495d30496",
   "metadata": {},
   "outputs": [
    {
     "data": {
      "text/plain": [
       "0    Used boat,Diesel\n",
       "Name: Type, dtype: object"
      ]
     },
     "execution_count": 183,
     "metadata": {},
     "output_type": "execute_result"
    }
   ],
   "source": [
    "data['Type'].mode()"
   ]
  },
  {
   "cell_type": "code",
   "execution_count": 184,
   "id": "22eee677-d3af-44b6-9255-208214b6c416",
   "metadata": {},
   "outputs": [],
   "source": [
    "data['Type'].fillna(data['Type'].mode()[0], inplace=True)"
   ]
  },
  {
   "cell_type": "code",
   "execution_count": 185,
   "id": "a3c9dc9b-fe2f-4339-a0ad-800d531eba2b",
   "metadata": {},
   "outputs": [],
   "source": [
    "data['Width'].fillna(data['Width'].mean(), inplace=True)"
   ]
  },
  {
   "cell_type": "code",
   "execution_count": 186,
   "id": "8bdba95d-1874-45da-bac1-030ab2b4ad33",
   "metadata": {},
   "outputs": [],
   "source": [
    "data['Location'].fillna(data['Location'].mode()[0], inplace=True)"
   ]
  },
  {
   "cell_type": "code",
   "execution_count": 187,
   "id": "ab613317-56c9-4fe3-ac24-bff6c86af2a2",
   "metadata": {},
   "outputs": [],
   "source": [
    "data['Length'].fillna(data['Length'].mean(), inplace=True)"
   ]
  },
  {
   "cell_type": "code",
   "execution_count": 188,
   "id": "4fe313bc-2ea6-4417-a7c0-918b788aae10",
   "metadata": {},
   "outputs": [
    {
     "data": {
      "text/plain": [
       "Price                             0\n",
       "Boat Type                         0\n",
       "Manufacturer                   1338\n",
       "Type                              0\n",
       "Year Built                        0\n",
       "Length                            0\n",
       "Width                             0\n",
       "Material                          0\n",
       "Location                          0\n",
       "Number of views last 7 days       0\n",
       "dtype: int64"
      ]
     },
     "execution_count": 188,
     "metadata": {},
     "output_type": "execute_result"
    }
   ],
   "source": [
    "data.isnull().sum()"
   ]
  },
  {
   "cell_type": "code",
   "execution_count": 189,
   "id": "16370f15",
   "metadata": {},
   "outputs": [
    {
     "data": {
      "text/html": [
       "<div>\n",
       "<style scoped>\n",
       "    .dataframe tbody tr th:only-of-type {\n",
       "        vertical-align: middle;\n",
       "    }\n",
       "\n",
       "    .dataframe tbody tr th {\n",
       "        vertical-align: top;\n",
       "    }\n",
       "\n",
       "    .dataframe thead th {\n",
       "        text-align: right;\n",
       "    }\n",
       "</style>\n",
       "<table border=\"1\" class=\"dataframe\">\n",
       "  <thead>\n",
       "    <tr style=\"text-align: right;\">\n",
       "      <th></th>\n",
       "      <th>Price</th>\n",
       "      <th>Boat Type</th>\n",
       "      <th>Manufacturer</th>\n",
       "      <th>Type</th>\n",
       "      <th>Year Built</th>\n",
       "      <th>Length</th>\n",
       "      <th>Width</th>\n",
       "      <th>Material</th>\n",
       "      <th>Location</th>\n",
       "      <th>Number of views last 7 days</th>\n",
       "    </tr>\n",
       "  </thead>\n",
       "  <tbody>\n",
       "    <tr>\n",
       "      <th>0</th>\n",
       "      <td>CHF 3337</td>\n",
       "      <td>Motor Yacht</td>\n",
       "      <td>Rigiflex power boats</td>\n",
       "      <td>new boat from stock</td>\n",
       "      <td>2017</td>\n",
       "      <td>4.00</td>\n",
       "      <td>1.90</td>\n",
       "      <td>GRP</td>\n",
       "      <td>Switzerland</td>\n",
       "      <td>226</td>\n",
       "    </tr>\n",
       "    <tr>\n",
       "      <th>1</th>\n",
       "      <td>EUR 3490</td>\n",
       "      <td>Center console boat</td>\n",
       "      <td>Terhi power boats</td>\n",
       "      <td>new boat from stock</td>\n",
       "      <td>2020</td>\n",
       "      <td>4.00</td>\n",
       "      <td>1.50</td>\n",
       "      <td>Thermoplastic</td>\n",
       "      <td>Germany</td>\n",
       "      <td>75</td>\n",
       "    </tr>\n",
       "    <tr>\n",
       "      <th>3</th>\n",
       "      <td>DKK 25900</td>\n",
       "      <td>Sport Boat</td>\n",
       "      <td>Pioner power boats</td>\n",
       "      <td>new boat from stock</td>\n",
       "      <td>2020</td>\n",
       "      <td>3.00</td>\n",
       "      <td>1.00</td>\n",
       "      <td>GRP</td>\n",
       "      <td>Denmark</td>\n",
       "      <td>64</td>\n",
       "    </tr>\n",
       "    <tr>\n",
       "      <th>4</th>\n",
       "      <td>EUR 3399</td>\n",
       "      <td>Fishing Boat</td>\n",
       "      <td>Linder power boats</td>\n",
       "      <td>new boat from stock</td>\n",
       "      <td>2019</td>\n",
       "      <td>3.55</td>\n",
       "      <td>1.46</td>\n",
       "      <td>Aluminium</td>\n",
       "      <td>Germany</td>\n",
       "      <td>58</td>\n",
       "    </tr>\n",
       "    <tr>\n",
       "      <th>6</th>\n",
       "      <td>CHF 3600</td>\n",
       "      <td>Catamaran</td>\n",
       "      <td>NaN</td>\n",
       "      <td>Used boat,Unleaded</td>\n",
       "      <td>1999</td>\n",
       "      <td>6.20</td>\n",
       "      <td>2.38</td>\n",
       "      <td>Aluminium</td>\n",
       "      <td>Switzerland</td>\n",
       "      <td>474</td>\n",
       "    </tr>\n",
       "  </tbody>\n",
       "</table>\n",
       "</div>"
      ],
      "text/plain": [
       "       Price            Boat Type          Manufacturer                 Type  \\\n",
       "0   CHF 3337          Motor Yacht  Rigiflex power boats  new boat from stock   \n",
       "1   EUR 3490  Center console boat     Terhi power boats  new boat from stock   \n",
       "3  DKK 25900           Sport Boat    Pioner power boats  new boat from stock   \n",
       "4   EUR 3399         Fishing Boat    Linder power boats  new boat from stock   \n",
       "6   CHF 3600            Catamaran                   NaN   Used boat,Unleaded   \n",
       "\n",
       "   Year Built  Length  Width       Material     Location  \\\n",
       "0        2017    4.00   1.90            GRP  Switzerland   \n",
       "1        2020    4.00   1.50  Thermoplastic      Germany   \n",
       "3        2020    3.00   1.00            GRP      Denmark   \n",
       "4        2019    3.55   1.46      Aluminium      Germany   \n",
       "6        1999    6.20   2.38      Aluminium  Switzerland   \n",
       "\n",
       "   Number of views last 7 days  \n",
       "0                          226  \n",
       "1                           75  \n",
       "3                           64  \n",
       "4                           58  \n",
       "6                          474  "
      ]
     },
     "execution_count": 189,
     "metadata": {},
     "output_type": "execute_result"
    }
   ],
   "source": [
    "data.head()"
   ]
  },
  {
   "cell_type": "code",
   "execution_count": 190,
   "id": "183ff311",
   "metadata": {},
   "outputs": [
    {
     "data": {
      "text/plain": [
       "Number of views last 7 days       0\n",
       "Year Built                        0\n",
       "Width                             0\n",
       "Length                            0\n",
       "Manufacturer                   1338\n",
       "dtype: int64"
      ]
     },
     "execution_count": 190,
     "metadata": {},
     "output_type": "execute_result"
    }
   ],
   "source": [
    "imputation_data = data[['Number of views last 7 days', 'Year Built', 'Width', 'Length','Manufacturer']]\n",
    "imputation_data.isna().sum()"
   ]
  },
  {
   "cell_type": "code",
   "execution_count": 191,
   "id": "2bd36c95",
   "metadata": {},
   "outputs": [
    {
     "data": {
      "text/plain": [
       "(1338, 5)"
      ]
     },
     "execution_count": 191,
     "metadata": {},
     "output_type": "execute_result"
    }
   ],
   "source": [
    "data_to_impute = imputation_data[imputation_data['Manufacturer'].isna()]\n",
    "data_to_impute.shape"
   ]
  },
  {
   "cell_type": "code",
   "execution_count": 192,
   "id": "45e02768",
   "metadata": {},
   "outputs": [
    {
     "name": "stderr",
     "output_type": "stream",
     "text": [
      "/var/folders/j3/p5fccy8920s46lf3_h_xgx800000gn/T/ipykernel_50391/2157430875.py:1: SettingWithCopyWarning: \n",
      "A value is trying to be set on a copy of a slice from a DataFrame\n",
      "\n",
      "See the caveats in the documentation: https://pandas.pydata.org/pandas-docs/stable/user_guide/indexing.html#returning-a-view-versus-a-copy\n",
      "  imputation_data.dropna( inplace=True )\n"
     ]
    },
    {
     "data": {
      "text/plain": [
       "(8550, 5)"
      ]
     },
     "execution_count": 192,
     "metadata": {},
     "output_type": "execute_result"
    }
   ],
   "source": [
    "imputation_data.dropna( inplace=True )\n",
    "imputation_data.shape"
   ]
  },
  {
   "cell_type": "code",
   "execution_count": 193,
   "id": "caf72fec",
   "metadata": {},
   "outputs": [],
   "source": [
    "x = imputation_data[['Number of views last 7 days', 'Year Built', 'Width', 'Length']]\n",
    "y = imputation_data['Manufacturer'].astype('category').cat.codes\n"
   ]
  },
  {
   "cell_type": "code",
   "execution_count": 194,
   "id": "489b138f",
   "metadata": {},
   "outputs": [],
   "source": [
    "knn_model = KNeighborsClassifier(n_neighbors=3)"
   ]
  },
  {
   "cell_type": "code",
   "execution_count": 195,
   "id": "ce4d6945",
   "metadata": {},
   "outputs": [
    {
     "data": {
      "text/html": [
       "<style>#sk-container-id-3 {color: black;background-color: white;}#sk-container-id-3 pre{padding: 0;}#sk-container-id-3 div.sk-toggleable {background-color: white;}#sk-container-id-3 label.sk-toggleable__label {cursor: pointer;display: block;width: 100%;margin-bottom: 0;padding: 0.3em;box-sizing: border-box;text-align: center;}#sk-container-id-3 label.sk-toggleable__label-arrow:before {content: \"▸\";float: left;margin-right: 0.25em;color: #696969;}#sk-container-id-3 label.sk-toggleable__label-arrow:hover:before {color: black;}#sk-container-id-3 div.sk-estimator:hover label.sk-toggleable__label-arrow:before {color: black;}#sk-container-id-3 div.sk-toggleable__content {max-height: 0;max-width: 0;overflow: hidden;text-align: left;background-color: #f0f8ff;}#sk-container-id-3 div.sk-toggleable__content pre {margin: 0.2em;color: black;border-radius: 0.25em;background-color: #f0f8ff;}#sk-container-id-3 input.sk-toggleable__control:checked~div.sk-toggleable__content {max-height: 200px;max-width: 100%;overflow: auto;}#sk-container-id-3 input.sk-toggleable__control:checked~label.sk-toggleable__label-arrow:before {content: \"▾\";}#sk-container-id-3 div.sk-estimator input.sk-toggleable__control:checked~label.sk-toggleable__label {background-color: #d4ebff;}#sk-container-id-3 div.sk-label input.sk-toggleable__control:checked~label.sk-toggleable__label {background-color: #d4ebff;}#sk-container-id-3 input.sk-hidden--visually {border: 0;clip: rect(1px 1px 1px 1px);clip: rect(1px, 1px, 1px, 1px);height: 1px;margin: -1px;overflow: hidden;padding: 0;position: absolute;width: 1px;}#sk-container-id-3 div.sk-estimator {font-family: monospace;background-color: #f0f8ff;border: 1px dotted black;border-radius: 0.25em;box-sizing: border-box;margin-bottom: 0.5em;}#sk-container-id-3 div.sk-estimator:hover {background-color: #d4ebff;}#sk-container-id-3 div.sk-parallel-item::after {content: \"\";width: 100%;border-bottom: 1px solid gray;flex-grow: 1;}#sk-container-id-3 div.sk-label:hover label.sk-toggleable__label {background-color: #d4ebff;}#sk-container-id-3 div.sk-serial::before {content: \"\";position: absolute;border-left: 1px solid gray;box-sizing: border-box;top: 0;bottom: 0;left: 50%;z-index: 0;}#sk-container-id-3 div.sk-serial {display: flex;flex-direction: column;align-items: center;background-color: white;padding-right: 0.2em;padding-left: 0.2em;position: relative;}#sk-container-id-3 div.sk-item {position: relative;z-index: 1;}#sk-container-id-3 div.sk-parallel {display: flex;align-items: stretch;justify-content: center;background-color: white;position: relative;}#sk-container-id-3 div.sk-item::before, #sk-container-id-3 div.sk-parallel-item::before {content: \"\";position: absolute;border-left: 1px solid gray;box-sizing: border-box;top: 0;bottom: 0;left: 50%;z-index: -1;}#sk-container-id-3 div.sk-parallel-item {display: flex;flex-direction: column;z-index: 1;position: relative;background-color: white;}#sk-container-id-3 div.sk-parallel-item:first-child::after {align-self: flex-end;width: 50%;}#sk-container-id-3 div.sk-parallel-item:last-child::after {align-self: flex-start;width: 50%;}#sk-container-id-3 div.sk-parallel-item:only-child::after {width: 0;}#sk-container-id-3 div.sk-dashed-wrapped {border: 1px dashed gray;margin: 0 0.4em 0.5em 0.4em;box-sizing: border-box;padding-bottom: 0.4em;background-color: white;}#sk-container-id-3 div.sk-label label {font-family: monospace;font-weight: bold;display: inline-block;line-height: 1.2em;}#sk-container-id-3 div.sk-label-container {text-align: center;}#sk-container-id-3 div.sk-container {/* jupyter's `normalize.less` sets `[hidden] { display: none; }` but bootstrap.min.css set `[hidden] { display: none !important; }` so we also need the `!important` here to be able to override the default hidden behavior on the sphinx rendered scikit-learn.org. See: https://github.com/scikit-learn/scikit-learn/issues/21755 */display: inline-block !important;position: relative;}#sk-container-id-3 div.sk-text-repr-fallback {display: none;}</style><div id=\"sk-container-id-3\" class=\"sk-top-container\"><div class=\"sk-text-repr-fallback\"><pre>KNeighborsClassifier(n_neighbors=3)</pre><b>In a Jupyter environment, please rerun this cell to show the HTML representation or trust the notebook. <br />On GitHub, the HTML representation is unable to render, please try loading this page with nbviewer.org.</b></div><div class=\"sk-container\" hidden><div class=\"sk-item\"><div class=\"sk-estimator sk-toggleable\"><input class=\"sk-toggleable__control sk-hidden--visually\" id=\"sk-estimator-id-3\" type=\"checkbox\" checked><label for=\"sk-estimator-id-3\" class=\"sk-toggleable__label sk-toggleable__label-arrow\">KNeighborsClassifier</label><div class=\"sk-toggleable__content\"><pre>KNeighborsClassifier(n_neighbors=3)</pre></div></div></div></div></div>"
      ],
      "text/plain": [
       "KNeighborsClassifier(n_neighbors=3)"
      ]
     },
     "execution_count": 195,
     "metadata": {},
     "output_type": "execute_result"
    }
   ],
   "source": [
    "knn_model.fit(x,y)"
   ]
  },
  {
   "cell_type": "code",
   "execution_count": 196,
   "id": "43799d8f",
   "metadata": {},
   "outputs": [],
   "source": [
    "test_x = data_to_impute[['Number of views last 7 days', 'Year Built', 'Width', 'Length']] "
   ]
  },
  {
   "cell_type": "code",
   "execution_count": 197,
   "id": "42597d7a",
   "metadata": {},
   "outputs": [],
   "source": [
    "predicted_y = knn_model.predict(test_x)"
   ]
  },
  {
   "cell_type": "code",
   "execution_count": 198,
   "id": "cae023ea",
   "metadata": {},
   "outputs": [
    {
     "name": "stderr",
     "output_type": "stream",
     "text": [
      "/var/folders/j3/p5fccy8920s46lf3_h_xgx800000gn/T/ipykernel_50391/3390539349.py:1: SettingWithCopyWarning: \n",
      "A value is trying to be set on a copy of a slice from a DataFrame.\n",
      "Try using .loc[row_indexer,col_indexer] = value instead\n",
      "\n",
      "See the caveats in the documentation: https://pandas.pydata.org/pandas-docs/stable/user_guide/indexing.html#returning-a-view-versus-a-copy\n",
      "  data_to_impute['Manufacturer'] = predicted_y\n"
     ]
    },
    {
     "data": {
      "text/html": [
       "<div>\n",
       "<style scoped>\n",
       "    .dataframe tbody tr th:only-of-type {\n",
       "        vertical-align: middle;\n",
       "    }\n",
       "\n",
       "    .dataframe tbody tr th {\n",
       "        vertical-align: top;\n",
       "    }\n",
       "\n",
       "    .dataframe thead th {\n",
       "        text-align: right;\n",
       "    }\n",
       "</style>\n",
       "<table border=\"1\" class=\"dataframe\">\n",
       "  <thead>\n",
       "    <tr style=\"text-align: right;\">\n",
       "      <th></th>\n",
       "      <th>Number of views last 7 days</th>\n",
       "      <th>Year Built</th>\n",
       "      <th>Width</th>\n",
       "      <th>Length</th>\n",
       "      <th>Manufacturer</th>\n",
       "    </tr>\n",
       "  </thead>\n",
       "  <tbody>\n",
       "    <tr>\n",
       "      <th>6</th>\n",
       "      <td>474</td>\n",
       "      <td>1999</td>\n",
       "      <td>2.38</td>\n",
       "      <td>6.20</td>\n",
       "      <td>112</td>\n",
       "    </tr>\n",
       "    <tr>\n",
       "      <th>17</th>\n",
       "      <td>124</td>\n",
       "      <td>1985</td>\n",
       "      <td>1.00</td>\n",
       "      <td>4.00</td>\n",
       "      <td>4</td>\n",
       "    </tr>\n",
       "    <tr>\n",
       "      <th>19</th>\n",
       "      <td>330</td>\n",
       "      <td>2011</td>\n",
       "      <td>2.31</td>\n",
       "      <td>6.37</td>\n",
       "      <td>309</td>\n",
       "    </tr>\n",
       "    <tr>\n",
       "      <th>24</th>\n",
       "      <td>383</td>\n",
       "      <td>1985</td>\n",
       "      <td>2.47</td>\n",
       "      <td>6.53</td>\n",
       "      <td>250</td>\n",
       "    </tr>\n",
       "    <tr>\n",
       "      <th>28</th>\n",
       "      <td>641</td>\n",
       "      <td>1994</td>\n",
       "      <td>1.58</td>\n",
       "      <td>5.60</td>\n",
       "      <td>190</td>\n",
       "    </tr>\n",
       "  </tbody>\n",
       "</table>\n",
       "</div>"
      ],
      "text/plain": [
       "    Number of views last 7 days  Year Built  Width  Length  Manufacturer\n",
       "6                           474        1999   2.38    6.20           112\n",
       "17                          124        1985   1.00    4.00             4\n",
       "19                          330        2011   2.31    6.37           309\n",
       "24                          383        1985   2.47    6.53           250\n",
       "28                          641        1994   1.58    5.60           190"
      ]
     },
     "execution_count": 198,
     "metadata": {},
     "output_type": "execute_result"
    }
   ],
   "source": [
    "data_to_impute['Manufacturer'] = predicted_y\n",
    "data_to_impute.head()"
   ]
  },
  {
   "cell_type": "code",
   "execution_count": 199,
   "id": "15dce1a7",
   "metadata": {},
   "outputs": [
    {
     "data": {
      "text/plain": [
       "Number of views last 7 days    0\n",
       "Year Built                     0\n",
       "Width                          0\n",
       "Length                         0\n",
       "Manufacturer                   0\n",
       "dtype: int64"
      ]
     },
     "execution_count": 199,
     "metadata": {},
     "output_type": "execute_result"
    }
   ],
   "source": [
    "data_to_impute.isna().sum()"
   ]
  },
  {
   "cell_type": "code",
   "execution_count": 200,
   "id": "f81aacf5",
   "metadata": {},
   "outputs": [
    {
     "data": {
      "text/plain": [
       "(8550, 5)"
      ]
     },
     "execution_count": 200,
     "metadata": {},
     "output_type": "execute_result"
    }
   ],
   "source": [
    "imputation_data.shape"
   ]
  },
  {
   "cell_type": "code",
   "execution_count": 201,
   "id": "d9b5bdfd",
   "metadata": {},
   "outputs": [],
   "source": [
    "imputed_data = pd.concat([imputation_data, data_to_impute], axis=0)\n"
   ]
  },
  {
   "cell_type": "code",
   "execution_count": 202,
   "id": "395dd946",
   "metadata": {},
   "outputs": [],
   "source": [
    "imputed_data.reset_index(inplace=True, drop=True)"
   ]
  },
  {
   "cell_type": "code",
   "execution_count": 203,
   "id": "0dad3220",
   "metadata": {},
   "outputs": [
    {
     "data": {
      "text/html": [
       "<div>\n",
       "<style scoped>\n",
       "    .dataframe tbody tr th:only-of-type {\n",
       "        vertical-align: middle;\n",
       "    }\n",
       "\n",
       "    .dataframe tbody tr th {\n",
       "        vertical-align: top;\n",
       "    }\n",
       "\n",
       "    .dataframe thead th {\n",
       "        text-align: right;\n",
       "    }\n",
       "</style>\n",
       "<table border=\"1\" class=\"dataframe\">\n",
       "  <thead>\n",
       "    <tr style=\"text-align: right;\">\n",
       "      <th></th>\n",
       "      <th>Number of views last 7 days</th>\n",
       "      <th>Year Built</th>\n",
       "      <th>Width</th>\n",
       "      <th>Length</th>\n",
       "      <th>Manufacturer</th>\n",
       "    </tr>\n",
       "  </thead>\n",
       "  <tbody>\n",
       "    <tr>\n",
       "      <th>0</th>\n",
       "      <td>226</td>\n",
       "      <td>2017</td>\n",
       "      <td>1.90</td>\n",
       "      <td>4.00</td>\n",
       "      <td>Rigiflex power boats</td>\n",
       "    </tr>\n",
       "    <tr>\n",
       "      <th>1</th>\n",
       "      <td>75</td>\n",
       "      <td>2020</td>\n",
       "      <td>1.50</td>\n",
       "      <td>4.00</td>\n",
       "      <td>Terhi power boats</td>\n",
       "    </tr>\n",
       "    <tr>\n",
       "      <th>2</th>\n",
       "      <td>64</td>\n",
       "      <td>2020</td>\n",
       "      <td>1.00</td>\n",
       "      <td>3.00</td>\n",
       "      <td>Pioner power boats</td>\n",
       "    </tr>\n",
       "    <tr>\n",
       "      <th>3</th>\n",
       "      <td>58</td>\n",
       "      <td>2019</td>\n",
       "      <td>1.46</td>\n",
       "      <td>3.55</td>\n",
       "      <td>Linder power boats</td>\n",
       "    </tr>\n",
       "    <tr>\n",
       "      <th>4</th>\n",
       "      <td>45</td>\n",
       "      <td>2019</td>\n",
       "      <td>1.37</td>\n",
       "      <td>3.64</td>\n",
       "      <td>Crescent power boats</td>\n",
       "    </tr>\n",
       "    <tr>\n",
       "      <th>...</th>\n",
       "      <td>...</td>\n",
       "      <td>...</td>\n",
       "      <td>...</td>\n",
       "      <td>...</td>\n",
       "      <td>...</td>\n",
       "    </tr>\n",
       "    <tr>\n",
       "      <th>9883</th>\n",
       "      <td>531</td>\n",
       "      <td>2004</td>\n",
       "      <td>1.95</td>\n",
       "      <td>6.00</td>\n",
       "      <td>112</td>\n",
       "    </tr>\n",
       "    <tr>\n",
       "      <th>9884</th>\n",
       "      <td>204</td>\n",
       "      <td>2004</td>\n",
       "      <td>3.00</td>\n",
       "      <td>6.50</td>\n",
       "      <td>192</td>\n",
       "    </tr>\n",
       "    <tr>\n",
       "      <th>9885</th>\n",
       "      <td>303</td>\n",
       "      <td>2004</td>\n",
       "      <td>1.80</td>\n",
       "      <td>4.85</td>\n",
       "      <td>192</td>\n",
       "    </tr>\n",
       "    <tr>\n",
       "      <th>9886</th>\n",
       "      <td>185</td>\n",
       "      <td>2004</td>\n",
       "      <td>1.80</td>\n",
       "      <td>4.60</td>\n",
       "      <td>157</td>\n",
       "    </tr>\n",
       "    <tr>\n",
       "      <th>9887</th>\n",
       "      <td>94</td>\n",
       "      <td>2004</td>\n",
       "      <td>1.68</td>\n",
       "      <td>4.17</td>\n",
       "      <td>163</td>\n",
       "    </tr>\n",
       "  </tbody>\n",
       "</table>\n",
       "<p>9888 rows × 5 columns</p>\n",
       "</div>"
      ],
      "text/plain": [
       "      Number of views last 7 days  Year Built  Width  Length  \\\n",
       "0                             226        2017   1.90    4.00   \n",
       "1                              75        2020   1.50    4.00   \n",
       "2                              64        2020   1.00    3.00   \n",
       "3                              58        2019   1.46    3.55   \n",
       "4                              45        2019   1.37    3.64   \n",
       "...                           ...         ...    ...     ...   \n",
       "9883                          531        2004   1.95    6.00   \n",
       "9884                          204        2004   3.00    6.50   \n",
       "9885                          303        2004   1.80    4.85   \n",
       "9886                          185        2004   1.80    4.60   \n",
       "9887                           94        2004   1.68    4.17   \n",
       "\n",
       "              Manufacturer  \n",
       "0     Rigiflex power boats  \n",
       "1        Terhi power boats  \n",
       "2       Pioner power boats  \n",
       "3       Linder power boats  \n",
       "4     Crescent power boats  \n",
       "...                    ...  \n",
       "9883                   112  \n",
       "9884                   192  \n",
       "9885                   192  \n",
       "9886                   157  \n",
       "9887                   163  \n",
       "\n",
       "[9888 rows x 5 columns]"
      ]
     },
     "execution_count": 203,
     "metadata": {},
     "output_type": "execute_result"
    }
   ],
   "source": [
    "imputed_data"
   ]
  },
  {
   "cell_type": "code",
   "execution_count": 204,
   "id": "8430e8b9",
   "metadata": {},
   "outputs": [
    {
     "data": {
      "text/plain": [
       "(9888, 5)"
      ]
     },
     "execution_count": 204,
     "metadata": {},
     "output_type": "execute_result"
    }
   ],
   "source": [
    "data.drop(['Number of views last 7 days', 'Year Built', 'Width', 'Length','Manufacturer'],inplace=True, axis=1)\n",
    "data.shape"
   ]
  },
  {
   "cell_type": "code",
   "execution_count": 214,
   "id": "a89558ac",
   "metadata": {},
   "outputs": [
    {
     "data": {
      "text/plain": [
       "Price                          0\n",
       "Boat Type                      0\n",
       "Type                           0\n",
       "Material                       0\n",
       "Location                       0\n",
       "Number of views last 7 days    0\n",
       "Year Built                     0\n",
       "Width                          0\n",
       "Length                         0\n",
       "Manufacturer                   0\n",
       "dtype: int64"
      ]
     },
     "execution_count": 214,
     "metadata": {},
     "output_type": "execute_result"
    }
   ],
   "source": [
    "final_data = pd.concat([data, imputed_data], axis=1)\n",
    "final_data.isna().sum()"
   ]
  },
  {
   "cell_type": "code",
   "execution_count": 215,
   "id": "51cb0c1d",
   "metadata": {},
   "outputs": [],
   "source": [
    "broken_price = final_data['Price'].str.split(\" \")"
   ]
  },
  {
   "cell_type": "code",
   "execution_count": 216,
   "id": "1a18059e",
   "metadata": {},
   "outputs": [
    {
     "data": {
      "text/plain": [
       "0        [CHF, 3337]\n",
       "1        [EUR, 3490]\n",
       "3       [DKK, 25900]\n",
       "4        [EUR, 3399]\n",
       "6        [CHF, 3600]\n",
       "            ...     \n",
       "9876     [CHF, 5000]\n",
       "9879     [CHF, 4990]\n",
       "9880     [CHF, 4980]\n",
       "9881     [CHF, 4950]\n",
       "9884     [EUR, 4516]\n",
       "Name: Price, Length: 9888, dtype: object"
      ]
     },
     "execution_count": 216,
     "metadata": {},
     "output_type": "execute_result"
    }
   ],
   "source": [
    "broken_price"
   ]
  },
  {
   "cell_type": "code",
   "execution_count": 217,
   "id": "7e01dff5",
   "metadata": {},
   "outputs": [],
   "source": [
    "currency = []\n",
    "price = []\n",
    "for i in broken_price:\n",
    "    currency.append(i[0])\n",
    "    price.append(i[1])\n"
   ]
  },
  {
   "cell_type": "code",
   "execution_count": 218,
   "id": "b09da12c",
   "metadata": {},
   "outputs": [
    {
     "data": {
      "text/html": [
       "<div>\n",
       "<style scoped>\n",
       "    .dataframe tbody tr th:only-of-type {\n",
       "        vertical-align: middle;\n",
       "    }\n",
       "\n",
       "    .dataframe tbody tr th {\n",
       "        vertical-align: top;\n",
       "    }\n",
       "\n",
       "    .dataframe thead th {\n",
       "        text-align: right;\n",
       "    }\n",
       "</style>\n",
       "<table border=\"1\" class=\"dataframe\">\n",
       "  <thead>\n",
       "    <tr style=\"text-align: right;\">\n",
       "      <th></th>\n",
       "      <th>Price</th>\n",
       "      <th>Boat Type</th>\n",
       "      <th>Type</th>\n",
       "      <th>Material</th>\n",
       "      <th>Location</th>\n",
       "      <th>Number of views last 7 days</th>\n",
       "      <th>Year Built</th>\n",
       "      <th>Width</th>\n",
       "      <th>Length</th>\n",
       "      <th>Manufacturer</th>\n",
       "      <th>Currency</th>\n",
       "    </tr>\n",
       "  </thead>\n",
       "  <tbody>\n",
       "    <tr>\n",
       "      <th>0</th>\n",
       "      <td>3337</td>\n",
       "      <td>Motor Yacht</td>\n",
       "      <td>new boat from stock</td>\n",
       "      <td>GRP</td>\n",
       "      <td>Switzerland</td>\n",
       "      <td>226</td>\n",
       "      <td>2017</td>\n",
       "      <td>1.90</td>\n",
       "      <td>4.00</td>\n",
       "      <td>Rigiflex power boats</td>\n",
       "      <td>CHF</td>\n",
       "    </tr>\n",
       "    <tr>\n",
       "      <th>1</th>\n",
       "      <td>3490</td>\n",
       "      <td>Center console boat</td>\n",
       "      <td>new boat from stock</td>\n",
       "      <td>Thermoplastic</td>\n",
       "      <td>Germany</td>\n",
       "      <td>75</td>\n",
       "      <td>2020</td>\n",
       "      <td>1.50</td>\n",
       "      <td>4.00</td>\n",
       "      <td>Terhi power boats</td>\n",
       "      <td>EUR</td>\n",
       "    </tr>\n",
       "    <tr>\n",
       "      <th>3</th>\n",
       "      <td>25900</td>\n",
       "      <td>Sport Boat</td>\n",
       "      <td>new boat from stock</td>\n",
       "      <td>GRP</td>\n",
       "      <td>Denmark</td>\n",
       "      <td>58</td>\n",
       "      <td>2019</td>\n",
       "      <td>1.46</td>\n",
       "      <td>3.55</td>\n",
       "      <td>Linder power boats</td>\n",
       "      <td>DKK</td>\n",
       "    </tr>\n",
       "    <tr>\n",
       "      <th>4</th>\n",
       "      <td>3399</td>\n",
       "      <td>Fishing Boat</td>\n",
       "      <td>new boat from stock</td>\n",
       "      <td>Aluminium</td>\n",
       "      <td>Germany</td>\n",
       "      <td>45</td>\n",
       "      <td>2019</td>\n",
       "      <td>1.37</td>\n",
       "      <td>3.64</td>\n",
       "      <td>Crescent power boats</td>\n",
       "      <td>EUR</td>\n",
       "    </tr>\n",
       "    <tr>\n",
       "      <th>6</th>\n",
       "      <td>3600</td>\n",
       "      <td>Catamaran</td>\n",
       "      <td>Used boat,Unleaded</td>\n",
       "      <td>Aluminium</td>\n",
       "      <td>Switzerland</td>\n",
       "      <td>239</td>\n",
       "      <td>1987</td>\n",
       "      <td>1.75</td>\n",
       "      <td>4.35</td>\n",
       "      <td>Terhi power boats</td>\n",
       "      <td>CHF</td>\n",
       "    </tr>\n",
       "    <tr>\n",
       "      <th>...</th>\n",
       "      <td>...</td>\n",
       "      <td>...</td>\n",
       "      <td>...</td>\n",
       "      <td>...</td>\n",
       "      <td>...</td>\n",
       "      <td>...</td>\n",
       "      <td>...</td>\n",
       "      <td>...</td>\n",
       "      <td>...</td>\n",
       "      <td>...</td>\n",
       "      <td>...</td>\n",
       "    </tr>\n",
       "    <tr>\n",
       "      <th>9876</th>\n",
       "      <td>5000</td>\n",
       "      <td>Pilothouse</td>\n",
       "      <td>Used boat,Unleaded</td>\n",
       "      <td>GRP</td>\n",
       "      <td>Switzerland</td>\n",
       "      <td>181</td>\n",
       "      <td>2004</td>\n",
       "      <td>2.00</td>\n",
       "      <td>6.00</td>\n",
       "      <td>8</td>\n",
       "      <td>CHF</td>\n",
       "    </tr>\n",
       "    <tr>\n",
       "      <th>9879</th>\n",
       "      <td>4990</td>\n",
       "      <td>Sport Boat</td>\n",
       "      <td>new boat on order</td>\n",
       "      <td>GRP</td>\n",
       "      <td>Switzerland</td>\n",
       "      <td>245</td>\n",
       "      <td>2004</td>\n",
       "      <td>2.50</td>\n",
       "      <td>5.70</td>\n",
       "      <td>413</td>\n",
       "      <td>CHF</td>\n",
       "    </tr>\n",
       "    <tr>\n",
       "      <th>9880</th>\n",
       "      <td>4980</td>\n",
       "      <td>Sport Boat</td>\n",
       "      <td>new boat from stock</td>\n",
       "      <td>Aluminium</td>\n",
       "      <td>Switzerland</td>\n",
       "      <td>128</td>\n",
       "      <td>2004</td>\n",
       "      <td>2.20</td>\n",
       "      <td>6.30</td>\n",
       "      <td>399</td>\n",
       "      <td>CHF</td>\n",
       "    </tr>\n",
       "    <tr>\n",
       "      <th>9881</th>\n",
       "      <td>4950</td>\n",
       "      <td>Sport Boat</td>\n",
       "      <td>new boat from stock</td>\n",
       "      <td>Aluminium</td>\n",
       "      <td>Switzerland</td>\n",
       "      <td>281</td>\n",
       "      <td>2004</td>\n",
       "      <td>2.75</td>\n",
       "      <td>12.70</td>\n",
       "      <td>431</td>\n",
       "      <td>CHF</td>\n",
       "    </tr>\n",
       "    <tr>\n",
       "      <th>9884</th>\n",
       "      <td>4516</td>\n",
       "      <td>Sport Boat</td>\n",
       "      <td>new boat from stock</td>\n",
       "      <td>GRP</td>\n",
       "      <td>Germany</td>\n",
       "      <td>204</td>\n",
       "      <td>2004</td>\n",
       "      <td>3.00</td>\n",
       "      <td>6.50</td>\n",
       "      <td>192</td>\n",
       "      <td>EUR</td>\n",
       "    </tr>\n",
       "  </tbody>\n",
       "</table>\n",
       "<p>9888 rows × 11 columns</p>\n",
       "</div>"
      ],
      "text/plain": [
       "      Price            Boat Type                 Type       Material  \\\n",
       "0      3337          Motor Yacht  new boat from stock            GRP   \n",
       "1      3490  Center console boat  new boat from stock  Thermoplastic   \n",
       "3     25900           Sport Boat  new boat from stock            GRP   \n",
       "4      3399         Fishing Boat  new boat from stock      Aluminium   \n",
       "6      3600            Catamaran   Used boat,Unleaded      Aluminium   \n",
       "...     ...                  ...                  ...            ...   \n",
       "9876   5000           Pilothouse   Used boat,Unleaded            GRP   \n",
       "9879   4990           Sport Boat    new boat on order            GRP   \n",
       "9880   4980           Sport Boat  new boat from stock      Aluminium   \n",
       "9881   4950           Sport Boat  new boat from stock      Aluminium   \n",
       "9884   4516           Sport Boat  new boat from stock            GRP   \n",
       "\n",
       "         Location  Number of views last 7 days  Year Built  Width  Length  \\\n",
       "0     Switzerland                          226        2017   1.90    4.00   \n",
       "1         Germany                           75        2020   1.50    4.00   \n",
       "3         Denmark                           58        2019   1.46    3.55   \n",
       "4         Germany                           45        2019   1.37    3.64   \n",
       "6     Switzerland                          239        1987   1.75    4.35   \n",
       "...           ...                          ...         ...    ...     ...   \n",
       "9876  Switzerland                          181        2004   2.00    6.00   \n",
       "9879  Switzerland                          245        2004   2.50    5.70   \n",
       "9880  Switzerland                          128        2004   2.20    6.30   \n",
       "9881  Switzerland                          281        2004   2.75   12.70   \n",
       "9884      Germany                          204        2004   3.00    6.50   \n",
       "\n",
       "              Manufacturer Currency  \n",
       "0     Rigiflex power boats      CHF  \n",
       "1        Terhi power boats      EUR  \n",
       "3       Linder power boats      DKK  \n",
       "4     Crescent power boats      EUR  \n",
       "6        Terhi power boats      CHF  \n",
       "...                    ...      ...  \n",
       "9876                     8      CHF  \n",
       "9879                   413      CHF  \n",
       "9880                   399      CHF  \n",
       "9881                   431      CHF  \n",
       "9884                   192      EUR  \n",
       "\n",
       "[9888 rows x 11 columns]"
      ]
     },
     "execution_count": 218,
     "metadata": {},
     "output_type": "execute_result"
    }
   ],
   "source": [
    "final_data['Currency'] = currency\n",
    "final_data['Price'] = price\n",
    "final_data"
   ]
  },
  {
   "cell_type": "code",
   "execution_count": 219,
   "id": "d1698312",
   "metadata": {},
   "outputs": [],
   "source": [
    "final_data['Price'] = final_data['Price'].astype(float)"
   ]
  },
  {
   "cell_type": "code",
   "execution_count": 221,
   "id": "eb2af95d",
   "metadata": {},
   "outputs": [],
   "source": [
    "final_data.to_csv('clean_boat_data.csv', index=False)"
   ]
  },
  {
   "cell_type": "code",
   "execution_count": null,
   "id": "bd601423",
   "metadata": {},
   "outputs": [],
   "source": []
  }
 ],
 "metadata": {
  "kernelspec": {
   "display_name": "Python 3.8.9 64-bit",
   "language": "python",
   "name": "python3"
  },
  "language_info": {
   "codemirror_mode": {
    "name": "ipython",
    "version": 3
   },
   "file_extension": ".py",
   "mimetype": "text/x-python",
   "name": "python",
   "nbconvert_exporter": "python",
   "pygments_lexer": "ipython3",
   "version": "3.8.9"
  },
  "vscode": {
   "interpreter": {
    "hash": "31f2aee4e71d21fbe5cf8b01ff0e069b9275f58929596ceb00d14d90e3e16cd6"
   }
  }
 },
 "nbformat": 4,
 "nbformat_minor": 5
}
